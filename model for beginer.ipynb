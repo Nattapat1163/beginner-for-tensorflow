{
  "nbformat": 4,
  "nbformat_minor": 0,
  "metadata": {
    "colab": {
      "name": "drug_(student_id).ipynb",
      "provenance": [],
      "collapsed_sections": []
    },
    "kernelspec": {
      "name": "python3",
      "display_name": "Python 3"
    },
    "language_info": {
      "name": "python"
    }
  },
  "cells": [
    {
      "cell_type": "markdown",
      "metadata": {
        "id": "GkWzXlx0r3oj"
      },
      "source": [
        "# Drug Type Prediction"
      ]
    },
    {
      "cell_type": "markdown",
      "metadata": {
        "id": "oJlMAmzKsLq-"
      },
      "source": [
        "Dataset is at https://rathachai.github.io/DA101/data/drug-dataset.csv\n",
        "\n",
        "The features are:\n",
        "* **Age**\n",
        "* **Sex**\n",
        "* **BP** : Blood Pressure Levels\n",
        "* **Cholesterol** : Cholesterol Levels\n",
        "* **Na_to_K** : Na to Potassium Ration\n",
        "\n",
        "The label is\n",
        "* **Drug** : Drug type"
      ]
    },
    {
      "cell_type": "markdown",
      "metadata": {
        "id": "Wtp20ELDs-s6"
      },
      "source": [
        "**Instruction**\n",
        "\n",
        "1.   Save a Copy of this notebook using your KMITL account.\n",
        "2.   Change the filename with your student id e.g. \"drug (xxxxxxxx)\".\n",
        "3.   Fill your student id, fullname, and URL of your colab (after save a copy)\n",
        "4.   Use all features to predict the label following the instruction.\n",
        "5.   Export PDF and submit.\n",
        "6.   Share your notebook with \"Anyone on the internet with this link can view\", and submit the link.\n",
        "\n",
        "\n",
        "\n"
      ]
    },
    {
      "cell_type": "markdown",
      "metadata": {
        "id": "a_rtj5ijqgLS"
      },
      "source": [
        "\"The university students who cheat on their exam will not be graded in that semester and the next academic semester suspension will then be awarded as a punishment.\""
      ]
    },
    {
      "cell_type": "markdown",
      "metadata": {
        "id": "i0sNRaA7uCVo"
      },
      "source": [
        "---"
      ]
    },
    {
      "cell_type": "markdown",
      "metadata": {
        "id": "r3LcfXW0uGJ6"
      },
      "source": [
        "## Q-01 : Import all libraries\n",
        "\n",
        "Every library must be here\n",
        "\n",
        "Note: Your work is mainly based on the libraries **Pandas** and **Scikit-Learn** "
      ]
    },
    {
      "cell_type": "code",
      "metadata": {
        "id": "I6ELYfTCLZ6J"
      },
      "source": [
        "import pandas as pd\n",
        "import numpy as np\n",
        "import matplotlib.pyplot as plt\n",
        "import seaborn as sns\n",
        "\n",
        "from sklearn.naive_bayes import GaussianNB\n",
        "from sklearn.model_selection import train_test_split\n",
        "from sklearn.linear_model import LogisticRegression\n",
        "from sklearn.preprocessing import LabelEncoder\n",
        "from sklearn import neural_network\n",
        "from sklearn.metrics import confusion_matrix\n",
        "from sklearn.metrics import classification_report\n",
        "from sklearn.metrics import f1_score"
      ],
      "execution_count": null,
      "outputs": []
    },
    {
      "cell_type": "markdown",
      "metadata": {
        "id": "x0oodvHzuXis"
      },
      "source": [
        "##Q-02 : Load the dataset into a dataframe **df**"
      ]
    },
    {
      "cell_type": "code",
      "metadata": {
        "id": "keJ0GpZ3rruF",
        "colab": {
          "base_uri": "https://localhost:8080/",
          "height": 408
        },
        "outputId": "64a2d252-17a8-456b-f7a5-3af6250a6b1e"
      },
      "source": [
        "df = pd.read_csv('https://rathachai.github.io/DA101/data/drug-dataset.csv')\n",
        "df"
      ],
      "execution_count": null,
      "outputs": [
        {
          "output_type": "execute_result",
          "data": {
            "text/html": [
              "<div>\n",
              "<style scoped>\n",
              "    .dataframe tbody tr th:only-of-type {\n",
              "        vertical-align: middle;\n",
              "    }\n",
              "\n",
              "    .dataframe tbody tr th {\n",
              "        vertical-align: top;\n",
              "    }\n",
              "\n",
              "    .dataframe thead th {\n",
              "        text-align: right;\n",
              "    }\n",
              "</style>\n",
              "<table border=\"1\" class=\"dataframe\">\n",
              "  <thead>\n",
              "    <tr style=\"text-align: right;\">\n",
              "      <th></th>\n",
              "      <th>Age</th>\n",
              "      <th>Sex</th>\n",
              "      <th>BP</th>\n",
              "      <th>Cholesterol</th>\n",
              "      <th>Na_to_K</th>\n",
              "      <th>Drug</th>\n",
              "    </tr>\n",
              "  </thead>\n",
              "  <tbody>\n",
              "    <tr>\n",
              "      <th>0</th>\n",
              "      <td>15</td>\n",
              "      <td>M</td>\n",
              "      <td>NORMAL</td>\n",
              "      <td>HIGH</td>\n",
              "      <td>9.084</td>\n",
              "      <td>drugX</td>\n",
              "    </tr>\n",
              "    <tr>\n",
              "      <th>1</th>\n",
              "      <td>15</td>\n",
              "      <td>F</td>\n",
              "      <td>HIGH</td>\n",
              "      <td>NORMAL</td>\n",
              "      <td>16.725</td>\n",
              "      <td>DrugY</td>\n",
              "    </tr>\n",
              "    <tr>\n",
              "      <th>2</th>\n",
              "      <td>15</td>\n",
              "      <td>M</td>\n",
              "      <td>HIGH</td>\n",
              "      <td>NORMAL</td>\n",
              "      <td>17.206</td>\n",
              "      <td>DrugY</td>\n",
              "    </tr>\n",
              "    <tr>\n",
              "      <th>3</th>\n",
              "      <td>16</td>\n",
              "      <td>M</td>\n",
              "      <td>LOW</td>\n",
              "      <td>HIGH</td>\n",
              "      <td>12.006</td>\n",
              "      <td>drugC</td>\n",
              "    </tr>\n",
              "    <tr>\n",
              "      <th>4</th>\n",
              "      <td>16</td>\n",
              "      <td>F</td>\n",
              "      <td>HIGH</td>\n",
              "      <td>NORMAL</td>\n",
              "      <td>15.516</td>\n",
              "      <td>DrugY</td>\n",
              "    </tr>\n",
              "    <tr>\n",
              "      <th>...</th>\n",
              "      <td>...</td>\n",
              "      <td>...</td>\n",
              "      <td>...</td>\n",
              "      <td>...</td>\n",
              "      <td>...</td>\n",
              "      <td>...</td>\n",
              "    </tr>\n",
              "    <tr>\n",
              "      <th>195</th>\n",
              "      <td>73</td>\n",
              "      <td>F</td>\n",
              "      <td>NORMAL</td>\n",
              "      <td>HIGH</td>\n",
              "      <td>19.221</td>\n",
              "      <td>DrugY</td>\n",
              "    </tr>\n",
              "    <tr>\n",
              "      <th>196</th>\n",
              "      <td>74</td>\n",
              "      <td>M</td>\n",
              "      <td>HIGH</td>\n",
              "      <td>HIGH</td>\n",
              "      <td>9.567</td>\n",
              "      <td>drugB</td>\n",
              "    </tr>\n",
              "    <tr>\n",
              "      <th>197</th>\n",
              "      <td>74</td>\n",
              "      <td>M</td>\n",
              "      <td>LOW</td>\n",
              "      <td>NORMAL</td>\n",
              "      <td>11.939</td>\n",
              "      <td>drugX</td>\n",
              "    </tr>\n",
              "    <tr>\n",
              "      <th>198</th>\n",
              "      <td>74</td>\n",
              "      <td>M</td>\n",
              "      <td>HIGH</td>\n",
              "      <td>NORMAL</td>\n",
              "      <td>15.436</td>\n",
              "      <td>DrugY</td>\n",
              "    </tr>\n",
              "    <tr>\n",
              "      <th>199</th>\n",
              "      <td>74</td>\n",
              "      <td>F</td>\n",
              "      <td>LOW</td>\n",
              "      <td>HIGH</td>\n",
              "      <td>20.942</td>\n",
              "      <td>DrugY</td>\n",
              "    </tr>\n",
              "  </tbody>\n",
              "</table>\n",
              "<p>200 rows × 6 columns</p>\n",
              "</div>"
            ],
            "text/plain": [
              "     Age Sex      BP Cholesterol  Na_to_K   Drug\n",
              "0     15   M  NORMAL        HIGH    9.084  drugX\n",
              "1     15   F    HIGH      NORMAL   16.725  DrugY\n",
              "2     15   M    HIGH      NORMAL   17.206  DrugY\n",
              "3     16   M     LOW        HIGH   12.006  drugC\n",
              "4     16   F    HIGH      NORMAL   15.516  DrugY\n",
              "..   ...  ..     ...         ...      ...    ...\n",
              "195   73   F  NORMAL        HIGH   19.221  DrugY\n",
              "196   74   M    HIGH        HIGH    9.567  drugB\n",
              "197   74   M     LOW      NORMAL   11.939  drugX\n",
              "198   74   M    HIGH      NORMAL   15.436  DrugY\n",
              "199   74   F     LOW        HIGH   20.942  DrugY\n",
              "\n",
              "[200 rows x 6 columns]"
            ]
          },
          "metadata": {},
          "execution_count": 1303
        }
      ]
    },
    {
      "cell_type": "code",
      "metadata": {
        "colab": {
          "base_uri": "https://localhost:8080/"
        },
        "id": "2kwBHXwjL3yd",
        "outputId": "05eea6de-ca05-4ade-98b7-61d915a00073"
      },
      "source": [
        "df.info()"
      ],
      "execution_count": null,
      "outputs": [
        {
          "output_type": "stream",
          "name": "stdout",
          "text": [
            "<class 'pandas.core.frame.DataFrame'>\n",
            "RangeIndex: 200 entries, 0 to 199\n",
            "Data columns (total 6 columns):\n",
            " #   Column       Non-Null Count  Dtype  \n",
            "---  ------       --------------  -----  \n",
            " 0   Age          200 non-null    int64  \n",
            " 1   Sex          200 non-null    object \n",
            " 2   BP           200 non-null    object \n",
            " 3   Cholesterol  200 non-null    object \n",
            " 4   Na_to_K      195 non-null    float64\n",
            " 5   Drug         200 non-null    object \n",
            "dtypes: float64(1), int64(1), object(4)\n",
            "memory usage: 9.5+ KB\n"
          ]
        }
      ]
    },
    {
      "cell_type": "code",
      "metadata": {
        "colab": {
          "base_uri": "https://localhost:8080/"
        },
        "id": "IZSFrUO6OPv1",
        "outputId": "2d161022-276a-462c-fec0-8381f26a2ded"
      },
      "source": [
        "df['Na_to_K'] = df['Na_to_K'].fillna(df.groupby('Drug')['Na_to_K'].transform('mean'))\n",
        "df.info()"
      ],
      "execution_count": null,
      "outputs": [
        {
          "output_type": "stream",
          "name": "stdout",
          "text": [
            "<class 'pandas.core.frame.DataFrame'>\n",
            "RangeIndex: 200 entries, 0 to 199\n",
            "Data columns (total 6 columns):\n",
            " #   Column       Non-Null Count  Dtype  \n",
            "---  ------       --------------  -----  \n",
            " 0   Age          200 non-null    int64  \n",
            " 1   Sex          200 non-null    object \n",
            " 2   BP           200 non-null    object \n",
            " 3   Cholesterol  200 non-null    object \n",
            " 4   Na_to_K      200 non-null    float64\n",
            " 5   Drug         200 non-null    object \n",
            "dtypes: float64(1), int64(1), object(4)\n",
            "memory usage: 9.5+ KB\n"
          ]
        }
      ]
    },
    {
      "cell_type": "code",
      "metadata": {
        "colab": {
          "base_uri": "https://localhost:8080/",
          "height": 408
        },
        "id": "A07Cqc10MKgV",
        "outputId": "d3d32ad9-7229-47b8-da9b-f6329a5f61d0"
      },
      "source": [
        "lb_make = LabelEncoder()\n",
        "df[\"Gender Code\"] = lb_make.fit_transform(df[\"Sex\"])\n",
        "df"
      ],
      "execution_count": null,
      "outputs": [
        {
          "output_type": "execute_result",
          "data": {
            "text/html": [
              "<div>\n",
              "<style scoped>\n",
              "    .dataframe tbody tr th:only-of-type {\n",
              "        vertical-align: middle;\n",
              "    }\n",
              "\n",
              "    .dataframe tbody tr th {\n",
              "        vertical-align: top;\n",
              "    }\n",
              "\n",
              "    .dataframe thead th {\n",
              "        text-align: right;\n",
              "    }\n",
              "</style>\n",
              "<table border=\"1\" class=\"dataframe\">\n",
              "  <thead>\n",
              "    <tr style=\"text-align: right;\">\n",
              "      <th></th>\n",
              "      <th>Age</th>\n",
              "      <th>Sex</th>\n",
              "      <th>BP</th>\n",
              "      <th>Cholesterol</th>\n",
              "      <th>Na_to_K</th>\n",
              "      <th>Drug</th>\n",
              "      <th>Gender Code</th>\n",
              "    </tr>\n",
              "  </thead>\n",
              "  <tbody>\n",
              "    <tr>\n",
              "      <th>0</th>\n",
              "      <td>15</td>\n",
              "      <td>M</td>\n",
              "      <td>NORMAL</td>\n",
              "      <td>HIGH</td>\n",
              "      <td>9.084</td>\n",
              "      <td>drugX</td>\n",
              "      <td>1</td>\n",
              "    </tr>\n",
              "    <tr>\n",
              "      <th>1</th>\n",
              "      <td>15</td>\n",
              "      <td>F</td>\n",
              "      <td>HIGH</td>\n",
              "      <td>NORMAL</td>\n",
              "      <td>16.725</td>\n",
              "      <td>DrugY</td>\n",
              "      <td>0</td>\n",
              "    </tr>\n",
              "    <tr>\n",
              "      <th>2</th>\n",
              "      <td>15</td>\n",
              "      <td>M</td>\n",
              "      <td>HIGH</td>\n",
              "      <td>NORMAL</td>\n",
              "      <td>17.206</td>\n",
              "      <td>DrugY</td>\n",
              "      <td>1</td>\n",
              "    </tr>\n",
              "    <tr>\n",
              "      <th>3</th>\n",
              "      <td>16</td>\n",
              "      <td>M</td>\n",
              "      <td>LOW</td>\n",
              "      <td>HIGH</td>\n",
              "      <td>12.006</td>\n",
              "      <td>drugC</td>\n",
              "      <td>1</td>\n",
              "    </tr>\n",
              "    <tr>\n",
              "      <th>4</th>\n",
              "      <td>16</td>\n",
              "      <td>F</td>\n",
              "      <td>HIGH</td>\n",
              "      <td>NORMAL</td>\n",
              "      <td>15.516</td>\n",
              "      <td>DrugY</td>\n",
              "      <td>0</td>\n",
              "    </tr>\n",
              "    <tr>\n",
              "      <th>...</th>\n",
              "      <td>...</td>\n",
              "      <td>...</td>\n",
              "      <td>...</td>\n",
              "      <td>...</td>\n",
              "      <td>...</td>\n",
              "      <td>...</td>\n",
              "      <td>...</td>\n",
              "    </tr>\n",
              "    <tr>\n",
              "      <th>195</th>\n",
              "      <td>73</td>\n",
              "      <td>F</td>\n",
              "      <td>NORMAL</td>\n",
              "      <td>HIGH</td>\n",
              "      <td>19.221</td>\n",
              "      <td>DrugY</td>\n",
              "      <td>0</td>\n",
              "    </tr>\n",
              "    <tr>\n",
              "      <th>196</th>\n",
              "      <td>74</td>\n",
              "      <td>M</td>\n",
              "      <td>HIGH</td>\n",
              "      <td>HIGH</td>\n",
              "      <td>9.567</td>\n",
              "      <td>drugB</td>\n",
              "      <td>1</td>\n",
              "    </tr>\n",
              "    <tr>\n",
              "      <th>197</th>\n",
              "      <td>74</td>\n",
              "      <td>M</td>\n",
              "      <td>LOW</td>\n",
              "      <td>NORMAL</td>\n",
              "      <td>11.939</td>\n",
              "      <td>drugX</td>\n",
              "      <td>1</td>\n",
              "    </tr>\n",
              "    <tr>\n",
              "      <th>198</th>\n",
              "      <td>74</td>\n",
              "      <td>M</td>\n",
              "      <td>HIGH</td>\n",
              "      <td>NORMAL</td>\n",
              "      <td>15.436</td>\n",
              "      <td>DrugY</td>\n",
              "      <td>1</td>\n",
              "    </tr>\n",
              "    <tr>\n",
              "      <th>199</th>\n",
              "      <td>74</td>\n",
              "      <td>F</td>\n",
              "      <td>LOW</td>\n",
              "      <td>HIGH</td>\n",
              "      <td>20.942</td>\n",
              "      <td>DrugY</td>\n",
              "      <td>0</td>\n",
              "    </tr>\n",
              "  </tbody>\n",
              "</table>\n",
              "<p>200 rows × 7 columns</p>\n",
              "</div>"
            ],
            "text/plain": [
              "     Age Sex      BP Cholesterol  Na_to_K   Drug  Gender Code\n",
              "0     15   M  NORMAL        HIGH    9.084  drugX            1\n",
              "1     15   F    HIGH      NORMAL   16.725  DrugY            0\n",
              "2     15   M    HIGH      NORMAL   17.206  DrugY            1\n",
              "3     16   M     LOW        HIGH   12.006  drugC            1\n",
              "4     16   F    HIGH      NORMAL   15.516  DrugY            0\n",
              "..   ...  ..     ...         ...      ...    ...          ...\n",
              "195   73   F  NORMAL        HIGH   19.221  DrugY            0\n",
              "196   74   M    HIGH        HIGH    9.567  drugB            1\n",
              "197   74   M     LOW      NORMAL   11.939  drugX            1\n",
              "198   74   M    HIGH      NORMAL   15.436  DrugY            1\n",
              "199   74   F     LOW        HIGH   20.942  DrugY            0\n",
              "\n",
              "[200 rows x 7 columns]"
            ]
          },
          "metadata": {},
          "execution_count": 1306
        }
      ]
    },
    {
      "cell_type": "code",
      "metadata": {
        "colab": {
          "base_uri": "https://localhost:8080/",
          "height": 408
        },
        "id": "jaWSO5xpMx2b",
        "outputId": "909b3118-8465-44e8-b178-ba9c85132451"
      },
      "source": [
        "df = pd.get_dummies(df, columns=[\"Cholesterol\"])\n",
        "df = pd.get_dummies(df, columns=[\"BP\"])\n",
        "df"
      ],
      "execution_count": null,
      "outputs": [
        {
          "output_type": "execute_result",
          "data": {
            "text/html": [
              "<div>\n",
              "<style scoped>\n",
              "    .dataframe tbody tr th:only-of-type {\n",
              "        vertical-align: middle;\n",
              "    }\n",
              "\n",
              "    .dataframe tbody tr th {\n",
              "        vertical-align: top;\n",
              "    }\n",
              "\n",
              "    .dataframe thead th {\n",
              "        text-align: right;\n",
              "    }\n",
              "</style>\n",
              "<table border=\"1\" class=\"dataframe\">\n",
              "  <thead>\n",
              "    <tr style=\"text-align: right;\">\n",
              "      <th></th>\n",
              "      <th>Age</th>\n",
              "      <th>Sex</th>\n",
              "      <th>Na_to_K</th>\n",
              "      <th>Drug</th>\n",
              "      <th>Gender Code</th>\n",
              "      <th>Cholesterol_HIGH</th>\n",
              "      <th>Cholesterol_NORMAL</th>\n",
              "      <th>BP_HIGH</th>\n",
              "      <th>BP_LOW</th>\n",
              "      <th>BP_NORMAL</th>\n",
              "    </tr>\n",
              "  </thead>\n",
              "  <tbody>\n",
              "    <tr>\n",
              "      <th>0</th>\n",
              "      <td>15</td>\n",
              "      <td>M</td>\n",
              "      <td>9.084</td>\n",
              "      <td>drugX</td>\n",
              "      <td>1</td>\n",
              "      <td>1</td>\n",
              "      <td>0</td>\n",
              "      <td>0</td>\n",
              "      <td>0</td>\n",
              "      <td>1</td>\n",
              "    </tr>\n",
              "    <tr>\n",
              "      <th>1</th>\n",
              "      <td>15</td>\n",
              "      <td>F</td>\n",
              "      <td>16.725</td>\n",
              "      <td>DrugY</td>\n",
              "      <td>0</td>\n",
              "      <td>0</td>\n",
              "      <td>1</td>\n",
              "      <td>1</td>\n",
              "      <td>0</td>\n",
              "      <td>0</td>\n",
              "    </tr>\n",
              "    <tr>\n",
              "      <th>2</th>\n",
              "      <td>15</td>\n",
              "      <td>M</td>\n",
              "      <td>17.206</td>\n",
              "      <td>DrugY</td>\n",
              "      <td>1</td>\n",
              "      <td>0</td>\n",
              "      <td>1</td>\n",
              "      <td>1</td>\n",
              "      <td>0</td>\n",
              "      <td>0</td>\n",
              "    </tr>\n",
              "    <tr>\n",
              "      <th>3</th>\n",
              "      <td>16</td>\n",
              "      <td>M</td>\n",
              "      <td>12.006</td>\n",
              "      <td>drugC</td>\n",
              "      <td>1</td>\n",
              "      <td>1</td>\n",
              "      <td>0</td>\n",
              "      <td>0</td>\n",
              "      <td>1</td>\n",
              "      <td>0</td>\n",
              "    </tr>\n",
              "    <tr>\n",
              "      <th>4</th>\n",
              "      <td>16</td>\n",
              "      <td>F</td>\n",
              "      <td>15.516</td>\n",
              "      <td>DrugY</td>\n",
              "      <td>0</td>\n",
              "      <td>0</td>\n",
              "      <td>1</td>\n",
              "      <td>1</td>\n",
              "      <td>0</td>\n",
              "      <td>0</td>\n",
              "    </tr>\n",
              "    <tr>\n",
              "      <th>...</th>\n",
              "      <td>...</td>\n",
              "      <td>...</td>\n",
              "      <td>...</td>\n",
              "      <td>...</td>\n",
              "      <td>...</td>\n",
              "      <td>...</td>\n",
              "      <td>...</td>\n",
              "      <td>...</td>\n",
              "      <td>...</td>\n",
              "      <td>...</td>\n",
              "    </tr>\n",
              "    <tr>\n",
              "      <th>195</th>\n",
              "      <td>73</td>\n",
              "      <td>F</td>\n",
              "      <td>19.221</td>\n",
              "      <td>DrugY</td>\n",
              "      <td>0</td>\n",
              "      <td>1</td>\n",
              "      <td>0</td>\n",
              "      <td>0</td>\n",
              "      <td>0</td>\n",
              "      <td>1</td>\n",
              "    </tr>\n",
              "    <tr>\n",
              "      <th>196</th>\n",
              "      <td>74</td>\n",
              "      <td>M</td>\n",
              "      <td>9.567</td>\n",
              "      <td>drugB</td>\n",
              "      <td>1</td>\n",
              "      <td>1</td>\n",
              "      <td>0</td>\n",
              "      <td>1</td>\n",
              "      <td>0</td>\n",
              "      <td>0</td>\n",
              "    </tr>\n",
              "    <tr>\n",
              "      <th>197</th>\n",
              "      <td>74</td>\n",
              "      <td>M</td>\n",
              "      <td>11.939</td>\n",
              "      <td>drugX</td>\n",
              "      <td>1</td>\n",
              "      <td>0</td>\n",
              "      <td>1</td>\n",
              "      <td>0</td>\n",
              "      <td>1</td>\n",
              "      <td>0</td>\n",
              "    </tr>\n",
              "    <tr>\n",
              "      <th>198</th>\n",
              "      <td>74</td>\n",
              "      <td>M</td>\n",
              "      <td>15.436</td>\n",
              "      <td>DrugY</td>\n",
              "      <td>1</td>\n",
              "      <td>0</td>\n",
              "      <td>1</td>\n",
              "      <td>1</td>\n",
              "      <td>0</td>\n",
              "      <td>0</td>\n",
              "    </tr>\n",
              "    <tr>\n",
              "      <th>199</th>\n",
              "      <td>74</td>\n",
              "      <td>F</td>\n",
              "      <td>20.942</td>\n",
              "      <td>DrugY</td>\n",
              "      <td>0</td>\n",
              "      <td>1</td>\n",
              "      <td>0</td>\n",
              "      <td>0</td>\n",
              "      <td>1</td>\n",
              "      <td>0</td>\n",
              "    </tr>\n",
              "  </tbody>\n",
              "</table>\n",
              "<p>200 rows × 10 columns</p>\n",
              "</div>"
            ],
            "text/plain": [
              "     Age Sex  Na_to_K   Drug  ...  Cholesterol_NORMAL  BP_HIGH  BP_LOW  BP_NORMAL\n",
              "0     15   M    9.084  drugX  ...                   0        0       0          1\n",
              "1     15   F   16.725  DrugY  ...                   1        1       0          0\n",
              "2     15   M   17.206  DrugY  ...                   1        1       0          0\n",
              "3     16   M   12.006  drugC  ...                   0        0       1          0\n",
              "4     16   F   15.516  DrugY  ...                   1        1       0          0\n",
              "..   ...  ..      ...    ...  ...                 ...      ...     ...        ...\n",
              "195   73   F   19.221  DrugY  ...                   0        0       0          1\n",
              "196   74   M    9.567  drugB  ...                   0        1       0          0\n",
              "197   74   M   11.939  drugX  ...                   1        0       1          0\n",
              "198   74   M   15.436  DrugY  ...                   1        1       0          0\n",
              "199   74   F   20.942  DrugY  ...                   0        0       1          0\n",
              "\n",
              "[200 rows x 10 columns]"
            ]
          },
          "metadata": {},
          "execution_count": 1307
        }
      ]
    },
    {
      "cell_type": "markdown",
      "metadata": {
        "id": "Z8iioEd6uq0Z"
      },
      "source": [
        "## Q-03 : Preparing **X** and **y**\n",
        "*   **X** (capital X) is a set of features\n",
        "*   **y** (lower y) is a label\n",
        "\n"
      ]
    },
    {
      "cell_type": "code",
      "metadata": {
        "colab": {
          "base_uri": "https://localhost:8080/",
          "height": 408
        },
        "id": "VnLUlarVOvWk",
        "outputId": "269a0537-0ab0-443c-bcb8-94308ccb6542"
      },
      "source": [
        "X = df.drop(['Drug','Sex'],axis=1)\n",
        "y = df['Drug']\n",
        "X"
      ],
      "execution_count": null,
      "outputs": [
        {
          "output_type": "execute_result",
          "data": {
            "text/html": [
              "<div>\n",
              "<style scoped>\n",
              "    .dataframe tbody tr th:only-of-type {\n",
              "        vertical-align: middle;\n",
              "    }\n",
              "\n",
              "    .dataframe tbody tr th {\n",
              "        vertical-align: top;\n",
              "    }\n",
              "\n",
              "    .dataframe thead th {\n",
              "        text-align: right;\n",
              "    }\n",
              "</style>\n",
              "<table border=\"1\" class=\"dataframe\">\n",
              "  <thead>\n",
              "    <tr style=\"text-align: right;\">\n",
              "      <th></th>\n",
              "      <th>Age</th>\n",
              "      <th>Na_to_K</th>\n",
              "      <th>Gender Code</th>\n",
              "      <th>Cholesterol_HIGH</th>\n",
              "      <th>Cholesterol_NORMAL</th>\n",
              "      <th>BP_HIGH</th>\n",
              "      <th>BP_LOW</th>\n",
              "      <th>BP_NORMAL</th>\n",
              "    </tr>\n",
              "  </thead>\n",
              "  <tbody>\n",
              "    <tr>\n",
              "      <th>0</th>\n",
              "      <td>15</td>\n",
              "      <td>9.084</td>\n",
              "      <td>1</td>\n",
              "      <td>1</td>\n",
              "      <td>0</td>\n",
              "      <td>0</td>\n",
              "      <td>0</td>\n",
              "      <td>1</td>\n",
              "    </tr>\n",
              "    <tr>\n",
              "      <th>1</th>\n",
              "      <td>15</td>\n",
              "      <td>16.725</td>\n",
              "      <td>0</td>\n",
              "      <td>0</td>\n",
              "      <td>1</td>\n",
              "      <td>1</td>\n",
              "      <td>0</td>\n",
              "      <td>0</td>\n",
              "    </tr>\n",
              "    <tr>\n",
              "      <th>2</th>\n",
              "      <td>15</td>\n",
              "      <td>17.206</td>\n",
              "      <td>1</td>\n",
              "      <td>0</td>\n",
              "      <td>1</td>\n",
              "      <td>1</td>\n",
              "      <td>0</td>\n",
              "      <td>0</td>\n",
              "    </tr>\n",
              "    <tr>\n",
              "      <th>3</th>\n",
              "      <td>16</td>\n",
              "      <td>12.006</td>\n",
              "      <td>1</td>\n",
              "      <td>1</td>\n",
              "      <td>0</td>\n",
              "      <td>0</td>\n",
              "      <td>1</td>\n",
              "      <td>0</td>\n",
              "    </tr>\n",
              "    <tr>\n",
              "      <th>4</th>\n",
              "      <td>16</td>\n",
              "      <td>15.516</td>\n",
              "      <td>0</td>\n",
              "      <td>0</td>\n",
              "      <td>1</td>\n",
              "      <td>1</td>\n",
              "      <td>0</td>\n",
              "      <td>0</td>\n",
              "    </tr>\n",
              "    <tr>\n",
              "      <th>...</th>\n",
              "      <td>...</td>\n",
              "      <td>...</td>\n",
              "      <td>...</td>\n",
              "      <td>...</td>\n",
              "      <td>...</td>\n",
              "      <td>...</td>\n",
              "      <td>...</td>\n",
              "      <td>...</td>\n",
              "    </tr>\n",
              "    <tr>\n",
              "      <th>195</th>\n",
              "      <td>73</td>\n",
              "      <td>19.221</td>\n",
              "      <td>0</td>\n",
              "      <td>1</td>\n",
              "      <td>0</td>\n",
              "      <td>0</td>\n",
              "      <td>0</td>\n",
              "      <td>1</td>\n",
              "    </tr>\n",
              "    <tr>\n",
              "      <th>196</th>\n",
              "      <td>74</td>\n",
              "      <td>9.567</td>\n",
              "      <td>1</td>\n",
              "      <td>1</td>\n",
              "      <td>0</td>\n",
              "      <td>1</td>\n",
              "      <td>0</td>\n",
              "      <td>0</td>\n",
              "    </tr>\n",
              "    <tr>\n",
              "      <th>197</th>\n",
              "      <td>74</td>\n",
              "      <td>11.939</td>\n",
              "      <td>1</td>\n",
              "      <td>0</td>\n",
              "      <td>1</td>\n",
              "      <td>0</td>\n",
              "      <td>1</td>\n",
              "      <td>0</td>\n",
              "    </tr>\n",
              "    <tr>\n",
              "      <th>198</th>\n",
              "      <td>74</td>\n",
              "      <td>15.436</td>\n",
              "      <td>1</td>\n",
              "      <td>0</td>\n",
              "      <td>1</td>\n",
              "      <td>1</td>\n",
              "      <td>0</td>\n",
              "      <td>0</td>\n",
              "    </tr>\n",
              "    <tr>\n",
              "      <th>199</th>\n",
              "      <td>74</td>\n",
              "      <td>20.942</td>\n",
              "      <td>0</td>\n",
              "      <td>1</td>\n",
              "      <td>0</td>\n",
              "      <td>0</td>\n",
              "      <td>1</td>\n",
              "      <td>0</td>\n",
              "    </tr>\n",
              "  </tbody>\n",
              "</table>\n",
              "<p>200 rows × 8 columns</p>\n",
              "</div>"
            ],
            "text/plain": [
              "     Age  Na_to_K  Gender Code  ...  BP_HIGH  BP_LOW  BP_NORMAL\n",
              "0     15    9.084            1  ...        0       0          1\n",
              "1     15   16.725            0  ...        1       0          0\n",
              "2     15   17.206            1  ...        1       0          0\n",
              "3     16   12.006            1  ...        0       1          0\n",
              "4     16   15.516            0  ...        1       0          0\n",
              "..   ...      ...          ...  ...      ...     ...        ...\n",
              "195   73   19.221            0  ...        0       0          1\n",
              "196   74    9.567            1  ...        1       0          0\n",
              "197   74   11.939            1  ...        0       1          0\n",
              "198   74   15.436            1  ...        1       0          0\n",
              "199   74   20.942            0  ...        0       1          0\n",
              "\n",
              "[200 rows x 8 columns]"
            ]
          },
          "metadata": {},
          "execution_count": 1308
        }
      ]
    },
    {
      "cell_type": "code",
      "metadata": {
        "colab": {
          "base_uri": "https://localhost:8080/"
        },
        "id": "t1Fv5y_CO-TZ",
        "outputId": "e6bee8e5-e832-44bc-94e9-fc6392d21737"
      },
      "source": [
        "y"
      ],
      "execution_count": null,
      "outputs": [
        {
          "output_type": "execute_result",
          "data": {
            "text/plain": [
              "0      drugX\n",
              "1      DrugY\n",
              "2      DrugY\n",
              "3      drugC\n",
              "4      DrugY\n",
              "       ...  \n",
              "195    DrugY\n",
              "196    drugB\n",
              "197    drugX\n",
              "198    DrugY\n",
              "199    DrugY\n",
              "Name: Drug, Length: 200, dtype: object"
            ]
          },
          "metadata": {},
          "execution_count": 1309
        }
      ]
    },
    {
      "cell_type": "code",
      "metadata": {
        "colab": {
          "base_uri": "https://localhost:8080/"
        },
        "id": "boRBTlvnPCNv",
        "outputId": "482157c5-3e1b-4a98-bd19-ec34c841a976"
      },
      "source": [
        "X_train, X_test, y_train, y_test = train_test_split(X, y, test_size=0.2,random_state=100)\n",
        "print(\"Size of X_train\", X_train.shape)\n",
        "print(\"Size of X_test\", X_test.shape)\n",
        "print(\"Size of y_train\", y_train.shape)\n",
        "print(\"Size of y_test\", y_test.shape)"
      ],
      "execution_count": null,
      "outputs": [
        {
          "output_type": "stream",
          "name": "stdout",
          "text": [
            "Size of X_train (160, 8)\n",
            "Size of X_test (40, 8)\n",
            "Size of y_train (160,)\n",
            "Size of y_test (40,)\n"
          ]
        }
      ]
    },
    {
      "cell_type": "markdown",
      "metadata": {
        "id": "VUXJ1HezvGGQ"
      },
      "source": [
        "## Q-04 : To work with the technique: **Decision Tree**\n",
        "\n",
        "1.   Use 5-fold cross-validation\n",
        "2.   Configure any parameters by your own decision\n",
        "3.   Show the model performance of this technique\n",
        "\n"
      ]
    },
    {
      "cell_type": "code",
      "metadata": {
        "colab": {
          "base_uri": "https://localhost:8080/"
        },
        "id": "WnQSohYMQuOl",
        "outputId": "844e8cd3-d401-43b1-ca94-c5ad2daaf7e0"
      },
      "source": [
        "from sklearn import tree\n",
        "from sklearn.metrics import accuracy_score\n",
        "ml = tree.DecisionTreeClassifier()\n",
        "ml.fit(X, y)\n",
        "y_pred = ml.predict(X_test)\n",
        "cm_labels = df[\"Drug\"].unique()\n",
        "print(\"***** Confusion Matrix *****\")\n",
        "cm_labels = df[\"Drug\"].unique()\n",
        "print(cm_labels)\n",
        "print(confusion_matrix(y_test, y_pred, labels=cm_labels))\n",
        "# Print Report\n",
        "print()\n",
        "print(\"***** Report *****\")\n",
        "print(classification_report(y_test,y_pred))\n",
        "print()\n",
        "print(\"***** F1 *****\")\n",
        "f1 = f1_score(y_test, y_pred, average='weighted')\n",
        "print (\"F1 = \", f1)\n",
        "acc = accuracy_score(y_test, y_pred)\n",
        "print(\"Accuracy :\", acc)"
      ],
      "execution_count": null,
      "outputs": [
        {
          "output_type": "stream",
          "name": "stdout",
          "text": [
            "***** Confusion Matrix *****\n",
            "['drugX' 'DrugY' 'drugC' 'drugA' 'drugB']\n",
            "[[10  0  0  0  0]\n",
            " [ 0 22  0  0  0]\n",
            " [ 0  0  2  0  0]\n",
            " [ 0  0  0  3  0]\n",
            " [ 0  0  0  0  3]]\n",
            "\n",
            "***** Report *****\n",
            "              precision    recall  f1-score   support\n",
            "\n",
            "       DrugY       1.00      1.00      1.00        22\n",
            "       drugA       1.00      1.00      1.00         3\n",
            "       drugB       1.00      1.00      1.00         3\n",
            "       drugC       1.00      1.00      1.00         2\n",
            "       drugX       1.00      1.00      1.00        10\n",
            "\n",
            "    accuracy                           1.00        40\n",
            "   macro avg       1.00      1.00      1.00        40\n",
            "weighted avg       1.00      1.00      1.00        40\n",
            "\n",
            "\n",
            "***** F1 *****\n",
            "F1 =  1.0\n",
            "Accuracy : 1.0\n"
          ]
        }
      ]
    },
    {
      "cell_type": "markdown",
      "metadata": {
        "id": "oQwZwQa0SLbG"
      },
      "source": [
        "Use 5-fold cross-validation"
      ]
    },
    {
      "cell_type": "code",
      "metadata": {
        "id": "Gb2RuXJ-SJuJ"
      },
      "source": [
        "from sklearn.model_selection import KFold\n",
        "from sklearn.preprocessing import StandardScaler\n",
        "from sklearn.linear_model import LinearRegression\n",
        "from sklearn.metrics import mean_squared_error"
      ],
      "execution_count": null,
      "outputs": []
    },
    {
      "cell_type": "code",
      "metadata": {
        "id": "E7DTiJnuSx8d"
      },
      "source": [
        "k = 5\n",
        "kf = KFold(n_splits=k)"
      ],
      "execution_count": null,
      "outputs": []
    },
    {
      "cell_type": "code",
      "metadata": {
        "colab": {
          "base_uri": "https://localhost:8080/"
        },
        "id": "4hKx2h1OSirJ",
        "outputId": "f0819851-365e-44bf-ac56-f433b64d3f7c"
      },
      "source": [
        "round_num = 1\n",
        "F1 = []\n",
        "\n",
        "for train_index, test_index in kf.split(X):\n",
        "  print(\"Round\", round_num)\n",
        "  print(\"  TRAIN:\", train_index[0:10],\"...\")\n",
        "  print(\"  TEST:\", test_index[0:5],\"...\")\n",
        "\n",
        "  # (5.1) to split train and test datasets\n",
        "  X_train, X_test = X.loc[train_index], X.loc[test_index]\n",
        "  y_train, y_test = y.loc[train_index], y.loc[test_index]\n",
        "\n",
        "  # (5.2) to train and create a linear regression model\n",
        "  ml = tree.DecisionTreeClassifier()\n",
        "  ml.fit(X_train,y_train)\n",
        "\n",
        "  # (6.1) to predict from the test set\n",
        "  y_pred = ml.predict(X_test)\n",
        "\n",
        "  # (6.2) to evaluate with some evaluation methods\n",
        "  f1 = f1_score(y_test, y_pred, average='weighted')\n",
        "  F1.append(f1)\n",
        "  print(\"***** F1 *****\")\n",
        "  print (\"F1 = \", f1)\n",
        "  round_num+=1\n",
        "  acc = accuracy_score(y_test, y_pred)\n",
        "  print(\"Accuracy :\", acc)\n",
        "  print(\"------------------------------------\")"
      ],
      "execution_count": null,
      "outputs": [
        {
          "output_type": "stream",
          "name": "stdout",
          "text": [
            "Round 1\n",
            "  TRAIN: [40 41 42 43 44 45 46 47 48 49] ...\n",
            "  TEST: [0 1 2 3 4] ...\n",
            "***** F1 *****\n",
            "F1 =  1.0\n",
            "Accuracy : 1.0\n",
            "------------------------------------\n",
            "Round 2\n",
            "  TRAIN: [0 1 2 3 4 5 6 7 8 9] ...\n",
            "  TEST: [40 41 42 43 44] ...\n",
            "***** F1 *****\n",
            "F1 =  1.0\n",
            "Accuracy : 1.0\n",
            "------------------------------------\n",
            "Round 3\n",
            "  TRAIN: [0 1 2 3 4 5 6 7 8 9] ...\n",
            "  TEST: [80 81 82 83 84] ...\n",
            "***** F1 *****\n",
            "F1 =  1.0\n",
            "Accuracy : 1.0\n",
            "------------------------------------\n",
            "Round 4\n",
            "  TRAIN: [0 1 2 3 4 5 6 7 8 9] ...\n",
            "  TEST: [120 121 122 123 124] ...\n",
            "***** F1 *****\n",
            "F1 =  0.919047619047619\n",
            "Accuracy : 0.9\n",
            "------------------------------------\n",
            "Round 5\n",
            "  TRAIN: [0 1 2 3 4 5 6 7 8 9] ...\n",
            "  TEST: [160 161 162 163 164] ...\n",
            "***** F1 *****\n",
            "F1 =  0.9747096399535424\n",
            "Accuracy : 0.975\n",
            "------------------------------------\n"
          ]
        }
      ]
    },
    {
      "cell_type": "markdown",
      "metadata": {
        "id": "go2O_QKHwiMi"
      },
      "source": [
        "## Q-05 : To work with the technique: **Naive Bayes**\n",
        "\n",
        "1.   Use 5-fold cross-validation\n",
        "2.   Configure any parameters by your own decision\n",
        "3.   Show the model performance of this technique"
      ]
    },
    {
      "cell_type": "code",
      "metadata": {
        "id": "rRx5T014wnhr",
        "colab": {
          "base_uri": "https://localhost:8080/"
        },
        "outputId": "0c1db314-8df4-415e-ffa0-f632b6a130a6"
      },
      "source": [
        "from sklearn.naive_bayes import GaussianNB\n",
        "from sklearn.datasets import load_iris\n",
        "clf = GaussianNB()\n",
        "y_pred = clf.fit(X_train, y_train).predict(X_test)\n",
        "print(\"***** F1 *****\")\n",
        "f1 = f1_score(y_test, y_pred, average='weighted')\n",
        "print (\"F1 = \", f1)\n",
        "acc = accuracy_score(y_test, y_pred)\n",
        "print(\"Accuracy :\", acc)"
      ],
      "execution_count": null,
      "outputs": [
        {
          "output_type": "stream",
          "name": "stdout",
          "text": [
            "***** F1 *****\n",
            "F1 =  0.5845324675324676\n",
            "Accuracy : 0.55\n"
          ]
        }
      ]
    },
    {
      "cell_type": "markdown",
      "metadata": {
        "id": "IFKKK439Wz6R"
      },
      "source": [
        "Use 5-fold cross-validation"
      ]
    },
    {
      "cell_type": "code",
      "metadata": {
        "colab": {
          "base_uri": "https://localhost:8080/"
        },
        "id": "BG0MltGfW33c",
        "outputId": "b31dcf36-2072-48c1-cda3-d49a5442061e"
      },
      "source": [
        "round_num = 1\n",
        "F1 = []\n",
        "\n",
        "for train_index, test_index in kf.split(X):\n",
        "  print(\"Round\", round_num)\n",
        "  print(\"  TRAIN:\", train_index[0:10],\"...\")\n",
        "  print(\"  TEST:\", test_index[0:5],\"...\")\n",
        "\n",
        "  # (5.1) to split train and test datasets\n",
        "  X_train, X_test = X.loc[train_index], X.loc[test_index]\n",
        "  y_train, y_test = y.loc[train_index], y.loc[test_index]\n",
        "\n",
        "  # (5.2) to train and create a linear regression model\n",
        "  clf = GaussianNB()\n",
        "  clf.fit(X_train,y_train)\n",
        "\n",
        "  # (6.1) to predict from the test set\n",
        "  y_pred = clf.predict(X_test)\n",
        "\n",
        "  # (6.2) to evaluate with some evaluation methods\n",
        "  f1 = f1_score(y_test, y_pred, average='weighted')\n",
        "  F1.append(f1)\n",
        "  print(\"***** F1 *****\")\n",
        "  print (\"F1 = \", f1)\n",
        "  acc = accuracy_score(y_test, y_pred)\n",
        "  print(\"Accuracy :\", acc)\n",
        "  print(\"------------------------------------\")\n",
        "  round_num+=1"
      ],
      "execution_count": null,
      "outputs": [
        {
          "output_type": "stream",
          "name": "stdout",
          "text": [
            "Round 1\n",
            "  TRAIN: [40 41 42 43 44 45 46 47 48 49] ...\n",
            "  TEST: [0 1 2 3 4] ...\n",
            "***** F1 *****\n",
            "F1 =  0.7850741296018657\n",
            "Accuracy : 0.775\n",
            "------------------------------------\n",
            "Round 2\n",
            "  TRAIN: [0 1 2 3 4 5 6 7 8 9] ...\n",
            "  TEST: [40 41 42 43 44] ...\n",
            "***** F1 *****\n",
            "F1 =  0.6988076923076924\n",
            "Accuracy : 0.725\n",
            "------------------------------------\n",
            "Round 3\n",
            "  TRAIN: [0 1 2 3 4 5 6 7 8 9] ...\n",
            "  TEST: [80 81 82 83 84] ...\n",
            "***** F1 *****\n",
            "F1 =  0.7416958041958042\n",
            "Accuracy : 0.725\n",
            "------------------------------------\n",
            "Round 4\n",
            "  TRAIN: [0 1 2 3 4 5 6 7 8 9] ...\n",
            "  TEST: [120 121 122 123 124] ...\n",
            "***** F1 *****\n",
            "F1 =  0.5127518315018315\n",
            "Accuracy : 0.525\n",
            "------------------------------------\n",
            "Round 5\n",
            "  TRAIN: [0 1 2 3 4 5 6 7 8 9] ...\n",
            "  TEST: [160 161 162 163 164] ...\n",
            "***** F1 *****\n",
            "F1 =  0.5845324675324676\n",
            "Accuracy : 0.55\n",
            "------------------------------------\n"
          ]
        }
      ]
    },
    {
      "cell_type": "markdown",
      "metadata": {
        "id": "k-gtfOIFwnv_"
      },
      "source": [
        "## Q-06 : To work with the technique: **Logistic Regression**\n",
        "\n",
        "1.   Use 5-fold cross-validation\n",
        "2.   Configure any parameters by your own decision\n",
        "3.   Show the model performance of this technique"
      ]
    },
    {
      "cell_type": "code",
      "metadata": {
        "id": "on5wzBUQxDr5",
        "colab": {
          "base_uri": "https://localhost:8080/"
        },
        "outputId": "6c74f7f6-e64a-459b-edda-d89e14b2cdd0"
      },
      "source": [
        "from sklearn.linear_model import LogisticRegression\n",
        "clf = LogisticRegression(max_iter = 3000)\n",
        "clf.fit(X_train,y_train)\n",
        "y_pred = clf.predict(X_test)\n",
        "f1 = f1_score(y_test, y_pred, average='weighted')\n",
        "print (\"F1 =\", f1)\n",
        "acc = accuracy_score(y_test, y_pred)\n",
        "print(\"Accuracy :\", acc)"
      ],
      "execution_count": null,
      "outputs": [
        {
          "output_type": "stream",
          "name": "stdout",
          "text": [
            "F1 = 0.6857721226142279\n",
            "Accuracy : 0.7\n"
          ]
        }
      ]
    },
    {
      "cell_type": "code",
      "metadata": {
        "colab": {
          "base_uri": "https://localhost:8080/"
        },
        "id": "y06KVF2yfcn4",
        "outputId": "ef871acf-cf07-46e2-eae4-9f8c691a9bcd"
      },
      "source": [
        "round_num = 1\n",
        "F1 = []\n",
        "\n",
        "for train_index, test_index in kf.split(X):\n",
        "  print(\"Round\", round_num)\n",
        "  print(\"  TRAIN:\", train_index[0:10],\"...\")\n",
        "  print(\"  TEST:\", test_index[0:5],\"...\")\n",
        "\n",
        "  # (5.1) to split train and test datasets\n",
        "  X_train, X_test = X.loc[train_index], X.loc[test_index]\n",
        "  y_train, y_test = y.loc[train_index], y.loc[test_index]\n",
        "\n",
        "  # (5.2) to train and create a linear regression model\n",
        "  clf = LogisticRegression(max_iter = 3000)\n",
        "  clf.fit(X_train,y_train)\n",
        "\n",
        "  # (6.1) to predict from the test set\n",
        "  y_pred = clf.predict(X_test)\n",
        "\n",
        "  # (6.2) to evaluate with some evaluation methods\n",
        "  f1 = f1_score(y_test, y_pred, average='weighted')\n",
        "  F1.append(f1)\n",
        "  print(\"***** F1 *****\")\n",
        "  print (\"F1 = \", f1)\n",
        "  acc = accuracy_score(y_test, y_pred)\n",
        "  print(\"Accuracy :\", acc)\n",
        "  print(\"------------------------------------\")\n",
        "  round_num+=1"
      ],
      "execution_count": null,
      "outputs": [
        {
          "output_type": "stream",
          "name": "stdout",
          "text": [
            "Round 1\n",
            "  TRAIN: [40 41 42 43 44 45 46 47 48 49] ...\n",
            "  TEST: [0 1 2 3 4] ...\n",
            "***** F1 *****\n",
            "F1 =  0.8386990927238607\n",
            "Accuracy : 0.825\n",
            "------------------------------------\n",
            "Round 2\n",
            "  TRAIN: [0 1 2 3 4 5 6 7 8 9] ...\n",
            "  TEST: [40 41 42 43 44] ...\n",
            "***** F1 *****\n",
            "F1 =  1.0\n",
            "Accuracy : 1.0\n",
            "------------------------------------\n",
            "Round 3\n",
            "  TRAIN: [0 1 2 3 4 5 6 7 8 9] ...\n",
            "  TEST: [80 81 82 83 84] ...\n",
            "***** F1 *****\n",
            "F1 =  0.9586904761904762\n",
            "Accuracy : 0.95\n",
            "------------------------------------\n",
            "Round 4\n",
            "  TRAIN: [0 1 2 3 4 5 6 7 8 9] ...\n",
            "  TEST: [120 121 122 123 124] ...\n",
            "***** F1 *****\n",
            "F1 =  0.7217905405405405\n",
            "Accuracy : 0.775\n",
            "------------------------------------\n",
            "Round 5\n",
            "  TRAIN: [0 1 2 3 4 5 6 7 8 9] ...\n",
            "  TEST: [160 161 162 163 164] ...\n",
            "***** F1 *****\n",
            "F1 =  0.6857721226142279\n",
            "Accuracy : 0.7\n",
            "------------------------------------\n"
          ]
        }
      ]
    },
    {
      "cell_type": "markdown",
      "metadata": {
        "id": "rk-Ytt1TxEB-"
      },
      "source": [
        "## Q-07 : To work with the technique: **Support Vector Machine**\n",
        "\n",
        "1.   Use 5-fold cross-validation\n",
        "2.   Configure any parameters by your own decision\n",
        "3.   Show the model performance of this technique"
      ]
    },
    {
      "cell_type": "code",
      "metadata": {
        "colab": {
          "base_uri": "https://localhost:8080/"
        },
        "id": "FuGJyyCab2A9",
        "outputId": "1addb204-5790-4209-95cd-0abdede7a002"
      },
      "source": [
        "from sklearn import svm\n",
        "clf = svm.SVC()\n",
        "clf.fit(X_train, y_train)\n",
        "y_pred = clf.predict(X_test)\n",
        "f1 = f1_score(y_test, y_pred, average='weighted')\n",
        "print (\"F1 =\", f1)\n",
        "acc = accuracy_score(y_test, y_pred)\n",
        "print(\"Accuracy :\", acc)"
      ],
      "execution_count": null,
      "outputs": [
        {
          "output_type": "stream",
          "name": "stdout",
          "text": [
            "F1 = 0.6762419871794871\n",
            "Accuracy : 0.75\n"
          ]
        }
      ]
    },
    {
      "cell_type": "code",
      "metadata": {
        "id": "XRyLU2dQxJHt",
        "colab": {
          "base_uri": "https://localhost:8080/"
        },
        "outputId": "bbaf7ee9-3ff6-4b09-c55c-767bc6c6566f"
      },
      "source": [
        "round_num = 1\n",
        "F1 = []\n",
        "\n",
        "for train_index, test_index in kf.split(X):\n",
        "  print(\"Round\", round_num)\n",
        "  print(\"  TRAIN:\", train_index[0:10],\"...\")\n",
        "  print(\"  TEST:\", test_index[0:5],\"...\")\n",
        "\n",
        "  # (5.1) to split train and test datasets\n",
        "  X_train, X_test = X.loc[train_index], X.loc[test_index]\n",
        "  y_train, y_test = y.loc[train_index], y.loc[test_index]\n",
        "\n",
        "  # (5.2) to train and create a linear regression model\n",
        "  clf = clf = svm.SVC()\n",
        "  clf.fit(X_train,y_train)\n",
        "\n",
        "  # (6.1) to predict from the test set\n",
        "  y_pred = clf.predict(X_test)\n",
        "\n",
        "  # (6.2) to evaluate with some evaluation methods\n",
        "  f1 = f1_score(y_test, y_pred, average='weighted')\n",
        "  F1.append(f1)\n",
        "  print(\"***** F1 *****\")\n",
        "  print (\"F1 = \", f1)\n",
        "  acc = accuracy_score(y_test, y_pred)\n",
        "  print(\"Accuracy :\", acc)\n",
        "  print(\"------------------------------------\")\n",
        "  round_num+=1"
      ],
      "execution_count": null,
      "outputs": [
        {
          "output_type": "stream",
          "name": "stdout",
          "text": [
            "Round 1\n",
            "  TRAIN: [40 41 42 43 44 45 46 47 48 49] ...\n",
            "  TEST: [0 1 2 3 4] ...\n",
            "***** F1 *****\n",
            "F1 =  0.6261904761904762\n",
            "Accuracy : 0.725\n",
            "------------------------------------\n",
            "Round 2\n",
            "  TRAIN: [0 1 2 3 4 5 6 7 8 9] ...\n",
            "  TEST: [40 41 42 43 44] ...\n",
            "***** F1 *****\n",
            "F1 =  0.6333333333333333\n",
            "Accuracy : 0.725\n",
            "------------------------------------\n",
            "Round 3\n",
            "  TRAIN: [0 1 2 3 4 5 6 7 8 9] ...\n",
            "  TEST: [80 81 82 83 84] ...\n",
            "***** F1 *****\n",
            "F1 =  0.5765151515151515\n",
            "Accuracy : 0.675\n",
            "------------------------------------\n",
            "Round 4\n",
            "  TRAIN: [0 1 2 3 4 5 6 7 8 9] ...\n",
            "  TEST: [120 121 122 123 124] ...\n",
            "***** F1 *****\n",
            "F1 =  0.5412024756852343\n",
            "Accuracy : 0.65\n",
            "------------------------------------\n",
            "Round 5\n",
            "  TRAIN: [0 1 2 3 4 5 6 7 8 9] ...\n",
            "  TEST: [160 161 162 163 164] ...\n",
            "***** F1 *****\n",
            "F1 =  0.6762419871794871\n",
            "Accuracy : 0.75\n",
            "------------------------------------\n"
          ]
        }
      ]
    },
    {
      "cell_type": "markdown",
      "metadata": {
        "id": "612RFwH7xJXy"
      },
      "source": [
        "## Q-08 : To work with the technique: **Neural Network**\n",
        "\n",
        "1.   Use 5-fold cross-validation\n",
        "2.   Use default configuration\n",
        "3.   Show the model performance of this technique"
      ]
    },
    {
      "cell_type": "code",
      "metadata": {
        "id": "fgOyd2F0xYQS",
        "colab": {
          "base_uri": "https://localhost:8080/"
        },
        "outputId": "7719fd0e-3664-434c-fb34-4ecfe67ea5ef"
      },
      "source": [
        "from sklearn import neural_network\n",
        "clf = neural_network.MLPClassifier()\n",
        "clf.fit(X_train, y_train)\n",
        "y_pred = clf.predict(X_test)\n",
        "f1 = f1_score(y_test, y_pred, average='weighted')\n",
        "print (\"F1 =\", f1)\n",
        "acc = accuracy_score(y_test, y_pred)\n",
        "print(\"Accuracy :\", acc)"
      ],
      "execution_count": null,
      "outputs": [
        {
          "output_type": "stream",
          "name": "stdout",
          "text": [
            "F1 = 0.6874897818021758\n",
            "Accuracy : 0.7\n"
          ]
        },
        {
          "output_type": "stream",
          "name": "stderr",
          "text": [
            "/usr/local/lib/python3.7/dist-packages/sklearn/neural_network/_multilayer_perceptron.py:571: ConvergenceWarning: Stochastic Optimizer: Maximum iterations (200) reached and the optimization hasn't converged yet.\n",
            "  % self.max_iter, ConvergenceWarning)\n"
          ]
        }
      ]
    },
    {
      "cell_type": "code",
      "metadata": {
        "colab": {
          "base_uri": "https://localhost:8080/"
        },
        "id": "xOp7CG_PqD7G",
        "outputId": "052996ef-401d-4bcd-dfef-f6990953ddad"
      },
      "source": [
        "round_num = 1\n",
        "F1 = []\n",
        "\n",
        "for train_index, test_index in kf.split(X):\n",
        "  print(\"Round\", round_num)\n",
        "  print(\"  TRAIN:\", train_index[0:10],\"...\")\n",
        "  print(\"  TEST:\", test_index[0:5],\"...\")\n",
        "\n",
        "  # (5.1) to split train and test datasets\n",
        "  X_train, X_test = X.loc[train_index], X.loc[test_index]\n",
        "  y_train, y_test = y.loc[train_index], y.loc[test_index]\n",
        "\n",
        "  # (5.2) to train and create a linear regression model\n",
        "  clf = neural_network.MLPClassifier()\n",
        "  clf.fit(X_train,y_train)\n",
        "\n",
        "  # (6.1) to predict from the test set\n",
        "  y_pred = clf.predict(X_test)\n",
        "\n",
        "  # (6.2) to evaluate with some evaluation methods\n",
        "  f1 = f1_score(y_test, y_pred, average='weighted')\n",
        "  F1.append(f1)\n",
        "  print(\"***** F1 *****\")\n",
        "  print (\"F1 = \", f1)\n",
        "  acc = accuracy_score(y_test, y_pred)\n",
        "  print(\"Accuracy :\", acc)\n",
        "  print(\"------------------------------------\")\n",
        "  round_num+=1"
      ],
      "execution_count": null,
      "outputs": [
        {
          "output_type": "stream",
          "name": "stdout",
          "text": [
            "Round 1\n",
            "  TRAIN: [40 41 42 43 44 45 46 47 48 49] ...\n",
            "  TEST: [0 1 2 3 4] ...\n",
            "***** F1 *****\n",
            "F1 =  0.3059322033898305\n",
            "Accuracy : 0.475\n",
            "------------------------------------\n",
            "Round 2\n",
            "  TRAIN: [0 1 2 3 4 5 6 7 8 9] ...\n",
            "  TEST: [40 41 42 43 44] ...\n",
            "***** F1 *****\n",
            "F1 =  0.2793103448275862\n",
            "Accuracy : 0.45\n",
            "------------------------------------\n",
            "Round 3\n",
            "  TRAIN: [0 1 2 3 4 5 6 7 8 9] ...\n",
            "  TEST: [80 81 82 83 84] ...\n"
          ]
        },
        {
          "output_type": "stream",
          "name": "stderr",
          "text": [
            "/usr/local/lib/python3.7/dist-packages/sklearn/neural_network/_multilayer_perceptron.py:571: ConvergenceWarning: Stochastic Optimizer: Maximum iterations (200) reached and the optimization hasn't converged yet.\n",
            "  % self.max_iter, ConvergenceWarning)\n",
            "/usr/local/lib/python3.7/dist-packages/sklearn/neural_network/_multilayer_perceptron.py:571: ConvergenceWarning: Stochastic Optimizer: Maximum iterations (200) reached and the optimization hasn't converged yet.\n",
            "  % self.max_iter, ConvergenceWarning)\n"
          ]
        },
        {
          "output_type": "stream",
          "name": "stdout",
          "text": [
            "***** F1 *****\n",
            "F1 =  0.5480911983032873\n",
            "Accuracy : 0.65\n",
            "------------------------------------\n",
            "Round 4\n",
            "  TRAIN: [0 1 2 3 4 5 6 7 8 9] ...\n",
            "  TEST: [120 121 122 123 124] ...\n",
            "***** F1 *****\n",
            "F1 =  0.619404761904762\n",
            "Accuracy : 0.675\n",
            "------------------------------------\n",
            "Round 5\n",
            "  TRAIN: [0 1 2 3 4 5 6 7 8 9] ...\n",
            "  TEST: [160 161 162 163 164] ...\n",
            "***** F1 *****\n",
            "F1 =  0.32352941176470584\n",
            "Accuracy : 0.275\n",
            "------------------------------------\n"
          ]
        }
      ]
    },
    {
      "cell_type": "markdown",
      "metadata": {
        "id": "oL2Sn07vxY9D"
      },
      "source": [
        "## Q-09 : To work with the technique: **Neural Network** (tuning)\n",
        "\n",
        "1.   Use 5-fold cross-validation\n",
        "2.   Configure any parameters of the Neural Network until you are satisfied with the model performance.\n",
        "3.   Show the model performance of this technique with tuning"
      ]
    },
    {
      "cell_type": "code",
      "metadata": {
        "colab": {
          "base_uri": "https://localhost:8080/"
        },
        "id": "6EZoEq7aq51y",
        "outputId": "cf59d8c7-d67e-441d-dd4a-9eca5815b1f3"
      },
      "source": [
        "from sklearn import neural_network\n",
        "from tensorflow.keras import layers\n",
        "from tensorflow.keras import regularizers\n",
        "\n",
        "clf = neural_network.MLPClassifier(activation = 'relu',hidden_layer_sizes = 4000,random_state = 101)\n",
        "clf.fit(X_train,y_train)\n",
        "y_pred = clf.predict(X_test)\n",
        "f1 = f1_score(y_test, y_pred, average='weighted')\n",
        "print (\"F1 =\", f1)\n",
        "acc = accuracy_score(y_test, y_pred)\n",
        "print(\"Accuracy :\", acc)\n"
      ],
      "execution_count": null,
      "outputs": [
        {
          "output_type": "stream",
          "name": "stdout",
          "text": [
            "F1 = 0.9285771065182831\n",
            "Accuracy : 0.925\n"
          ]
        },
        {
          "output_type": "stream",
          "name": "stderr",
          "text": [
            "/usr/local/lib/python3.7/dist-packages/sklearn/neural_network/_multilayer_perceptron.py:571: ConvergenceWarning: Stochastic Optimizer: Maximum iterations (200) reached and the optimization hasn't converged yet.\n",
            "  % self.max_iter, ConvergenceWarning)\n"
          ]
        }
      ]
    },
    {
      "cell_type": "code",
      "metadata": {
        "id": "e39uslFuuwN1"
      },
      "source": [
        "\n"
      ],
      "execution_count": null,
      "outputs": []
    },
    {
      "cell_type": "code",
      "metadata": {
        "id": "xY-OhKrFxvWt",
        "colab": {
          "base_uri": "https://localhost:8080/"
        },
        "outputId": "4e716f7f-eb8d-40de-ff8c-997f2842a9ea"
      },
      "source": [
        "round_num = 1\n",
        "F1 = []\n",
        "\n",
        "for train_index, test_index in kf.split(X):\n",
        "  print(\"Round\", round_num)\n",
        "  print(\"  TRAIN:\", train_index[0:10],\"...\")\n",
        "  print(\"  TEST:\", test_index[0:5],\"...\")\n",
        "\n",
        "  # (5.1) to split train and test datasets\n",
        "  X_train, X_test = X.loc[train_index], X.loc[test_index]\n",
        "  y_train, y_test = y.loc[train_index], y.loc[test_index]\n",
        "\n",
        "  # (5.2) to train and create a linear regression model\n",
        "  clf = neural_network.MLPClassifier(activation = 'relu',hidden_layer_sizes = 4000,random_state = 101)\n",
        "  clf.fit(X_train,y_train)\n",
        "\n",
        "  # (6.1) to predict from the test set\n",
        "  y_pred = clf.predict(X_test)\n",
        "\n",
        "  # (6.2) to evaluate with some evaluation methods\n",
        "  f1 = f1_score(y_test, y_pred, average='weighted')\n",
        "  F1.append(f1)\n",
        "  print(\"***** F1 *****\")\n",
        "  print (\"F1 = \", f1)\n",
        "  acc = accuracy_score(y_test, y_pred)\n",
        "  print(\"Accuracy :\", acc)\n",
        "  print(\"------------------------------------\")\n",
        "  round_num+=1"
      ],
      "execution_count": null,
      "outputs": [
        {
          "output_type": "stream",
          "name": "stdout",
          "text": [
            "Round 1\n",
            "  TRAIN: [40 41 42 43 44 45 46 47 48 49] ...\n",
            "  TEST: [0 1 2 3 4] ...\n"
          ]
        },
        {
          "output_type": "stream",
          "name": "stderr",
          "text": [
            "/usr/local/lib/python3.7/dist-packages/sklearn/neural_network/_multilayer_perceptron.py:571: ConvergenceWarning: Stochastic Optimizer: Maximum iterations (200) reached and the optimization hasn't converged yet.\n",
            "  % self.max_iter, ConvergenceWarning)\n"
          ]
        },
        {
          "output_type": "stream",
          "name": "stdout",
          "text": [
            "***** F1 *****\n",
            "F1 =  0.9208986643437862\n",
            "Accuracy : 0.925\n",
            "------------------------------------\n",
            "Round 2\n",
            "  TRAIN: [0 1 2 3 4 5 6 7 8 9] ...\n",
            "  TEST: [40 41 42 43 44] ...\n"
          ]
        },
        {
          "output_type": "stream",
          "name": "stderr",
          "text": [
            "/usr/local/lib/python3.7/dist-packages/sklearn/neural_network/_multilayer_perceptron.py:571: ConvergenceWarning: Stochastic Optimizer: Maximum iterations (200) reached and the optimization hasn't converged yet.\n",
            "  % self.max_iter, ConvergenceWarning)\n"
          ]
        },
        {
          "output_type": "stream",
          "name": "stdout",
          "text": [
            "***** F1 *****\n",
            "F1 =  1.0\n",
            "Accuracy : 1.0\n",
            "------------------------------------\n",
            "Round 3\n",
            "  TRAIN: [0 1 2 3 4 5 6 7 8 9] ...\n",
            "  TEST: [80 81 82 83 84] ...\n"
          ]
        },
        {
          "output_type": "stream",
          "name": "stderr",
          "text": [
            "/usr/local/lib/python3.7/dist-packages/sklearn/neural_network/_multilayer_perceptron.py:571: ConvergenceWarning: Stochastic Optimizer: Maximum iterations (200) reached and the optimization hasn't converged yet.\n",
            "  % self.max_iter, ConvergenceWarning)\n"
          ]
        },
        {
          "output_type": "stream",
          "name": "stdout",
          "text": [
            "***** F1 *****\n",
            "F1 =  0.9278554778554777\n",
            "Accuracy : 0.9\n",
            "------------------------------------\n",
            "Round 4\n",
            "  TRAIN: [0 1 2 3 4 5 6 7 8 9] ...\n",
            "  TEST: [120 121 122 123 124] ...\n"
          ]
        },
        {
          "output_type": "stream",
          "name": "stderr",
          "text": [
            "/usr/local/lib/python3.7/dist-packages/sklearn/neural_network/_multilayer_perceptron.py:571: ConvergenceWarning: Stochastic Optimizer: Maximum iterations (200) reached and the optimization hasn't converged yet.\n",
            "  % self.max_iter, ConvergenceWarning)\n"
          ]
        },
        {
          "output_type": "stream",
          "name": "stdout",
          "text": [
            "***** F1 *****\n",
            "F1 =  0.7843624393624393\n",
            "Accuracy : 0.775\n",
            "------------------------------------\n",
            "Round 5\n",
            "  TRAIN: [0 1 2 3 4 5 6 7 8 9] ...\n",
            "  TEST: [160 161 162 163 164] ...\n",
            "***** F1 *****\n",
            "F1 =  0.9285771065182831\n",
            "Accuracy : 0.925\n",
            "------------------------------------\n"
          ]
        },
        {
          "output_type": "stream",
          "name": "stderr",
          "text": [
            "/usr/local/lib/python3.7/dist-packages/sklearn/neural_network/_multilayer_perceptron.py:571: ConvergenceWarning: Stochastic Optimizer: Maximum iterations (200) reached and the optimization hasn't converged yet.\n",
            "  % self.max_iter, ConvergenceWarning)\n"
          ]
        }
      ]
    },
    {
      "cell_type": "markdown",
      "metadata": {
        "id": "q4wncL0pxuyS"
      },
      "source": [
        "## Q-10 : Save your Best Model\n",
        "\n",
        "Save your prediction model that provides that provides the best performance among your experiments (Q04 - Q09).\n",
        "\n",
        "Save it in to a filename \"**clf.model**\"."
      ]
    },
    {
      "cell_type": "code",
      "metadata": {
        "id": "--WFOcX4yVz7"
      },
      "source": [
        "import pickle"
      ],
      "execution_count": null,
      "outputs": []
    },
    {
      "cell_type": "code",
      "metadata": {
        "id": "4QwPjAwu2yWZ"
      },
      "source": [
        "filename = 'ml.model'"
      ],
      "execution_count": null,
      "outputs": []
    },
    {
      "cell_type": "code",
      "metadata": {
        "id": "SFTrfEv421nw"
      },
      "source": [
        "pickle.dump(clf, open(filename, 'wb'))"
      ],
      "execution_count": null,
      "outputs": []
    },
    {
      "cell_type": "code",
      "metadata": {
        "id": "13Ism2NU3tfp"
      },
      "source": [
        "loaded_clf = pickle.load(open(filename, 'rb'))"
      ],
      "execution_count": null,
      "outputs": []
    },
    {
      "cell_type": "code",
      "metadata": {
        "colab": {
          "base_uri": "https://localhost:8080/"
        },
        "id": "AfR8cDPx4CyR",
        "outputId": "2c21dc1e-72d2-4c01-fe7a-a93dcea21434"
      },
      "source": [
        "y_pred = loaded_clf.predict(X_test)\n",
        "f1 = f1_score(y_test, y_pred, average='weighted')\n",
        "print (\"F1 =\", f1)\n",
        "acc = accuracy_score(y_test, y_pred)\n",
        "print(\"Accuracy :\", acc)"
      ],
      "execution_count": null,
      "outputs": [
        {
          "output_type": "stream",
          "name": "stdout",
          "text": [
            "F1 = 0.9285771065182831\n",
            "Accuracy : 0.925\n"
          ]
        }
      ]
    },
    {
      "cell_type": "markdown",
      "metadata": {
        "id": "8bjmLg7CyWES"
      },
      "source": [
        "**Good Luck**"
      ]
    }
  ]
}